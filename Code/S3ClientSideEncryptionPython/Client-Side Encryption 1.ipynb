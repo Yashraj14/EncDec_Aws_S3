{
 "cells": [
  {
   "cell_type": "code",
   "execution_count": 15,
   "metadata": {},
   "outputs": [],
   "source": [
    "import boto3\n",
    "from cryptography.fernet import Fernet\n",
    "\n",
    "key = Fernet.generate_key()\n",
    "file = open('key.key', 'wb')\n",
    "file.write(key)\n",
    "file.close()"
   ]
  },
  {
   "cell_type": "code",
   "execution_count": 16,
   "metadata": {},
   "outputs": [],
   "source": [
    "from cryptography.fernet import Fernet\n",
    "\n",
    "# get the key from the file\n",
    "file = open('key.key', 'rb')\n",
    "key = file.read() #The key will be type bytes\n",
    "file.close()\n",
    "\n",
    "# open the file to encrypt\n",
    "with open(r'C:\\Users\\Aneri Patel\\.aws\\test.txt', 'r') as f:\n",
    " data = f.read()\n",
    "\n",
    "fernet = Fernet(key)\n",
    "encrypted = fernet.encrypt(data)\n",
    "\n",
    "#write the encrypted file\n",
    "with open(r'C:\\Users\\Aneri Patel\\.aws\\test.txt.encrypted', 'wb') as f:\n",
    " f.write(encrypted)\n",
    "\n"
   ]
  },
  {
   "cell_type": "code",
   "execution_count": 51,
   "metadata": {},
   "outputs": [
    {
     "name": "stdout",
     "output_type": "stream",
     "text": [
      "file-to-encrypt\n",
      "filencryption\n",
      "python-encrypt\n"
     ]
    }
   ],
   "source": [
    "s3 = boto3.resource('s3')\n",
    "for i in s3.buckets.all():\n",
    "    print(i.name)"
   ]
  },
  {
   "cell_type": "code",
   "execution_count": 68,
   "metadata": {},
   "outputs": [],
   "source": [
    "s3.Object('file-to-encrypt', 'rajtest').upload_file(\n",
    "    Filename=r'C:\\Users\\Aneri Patel\\.aws\\test.txt.encrypted')"
   ]
  },
  {
   "cell_type": "code",
   "execution_count": 69,
   "metadata": {},
   "outputs": [],
   "source": [
    "s3.Object('file-to-encrypt', 'rajtest').download_file(\n",
    "    r'C:\\Users\\Aneri Patel\\.aws\\testNanu.txt.encrypted')"
   ]
  },
  {
   "cell_type": "code",
   "execution_count": 72,
   "metadata": {
    "scrolled": true
   },
   "outputs": [],
   "source": [
    "with open(r'C:\\Users\\Aneri Patel\\.aws\\testNanu.txt.encrypted', 'r') as f:\n",
    "    data = f.read()\n",
    "fernet = Fernet(key)\n",
    "d = fernet.decrypt(data)\n",
    "with open(r'C:\\Users\\Aneri Patel\\.aws\\testNanuu.txt', 'wb') as f:\n",
    "    f.write(d)"
   ]
  },
  {
   "cell_type": "code",
   "execution_count": null,
   "metadata": {},
   "outputs": [],
   "source": []
  }
 ],
 "metadata": {
  "kernelspec": {
   "display_name": "Python 2",
   "language": "python",
   "name": "python2"
  },
  "language_info": {
   "codemirror_mode": {
    "name": "ipython",
    "version": 2
   },
   "file_extension": ".py",
   "mimetype": "text/x-python",
   "name": "python",
   "nbconvert_exporter": "python",
   "pygments_lexer": "ipython2",
   "version": "2.7.16"
  }
 },
 "nbformat": 4,
 "nbformat_minor": 2
}
